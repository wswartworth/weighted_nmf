{
 "cells": [
  {
   "cell_type": "code",
   "execution_count": 104,
   "metadata": {},
   "outputs": [],
   "source": [
    "import numpy as np\n",
    "from scipy.optimize import nnls\n",
    "from matplotlib import pyplot as plt\n",
    "from math import ceil\n",
    "\n",
    "from scipy.stats import pearsonr, spearmanr\n",
    "\n",
    "from tqdm import tqdm #progress bars\n",
    "\n",
    "import demo_data"
   ]
  },
  {
   "cell_type": "markdown",
   "metadata": {},
   "source": [
    "Our goal is to optimize the function $||AB - X||_F^2 + \\lambda^2||Av-y||^2$ where $A,B$ are constrained to be non-negative while $v$ is not."
   ]
  },
  {
   "cell_type": "code",
   "execution_count": 54,
   "metadata": {},
   "outputs": [],
   "source": [
    "def matrix_nnls(A,X):\n",
    "    \n",
    "    '''Returns the non-negative matrix B which minimizes ||AB - X||^2'''\n",
    "    \n",
    "    m,k = A.shape\n",
    "    m_,n = X.shape\n",
    "    \n",
    "    if m != m_:\n",
    "        raise ValueError('First dimensions on inputs must match')\n",
    "       \n",
    "    X_cols = [X[:,i] for i in range(0,n)]\n",
    "    nnls_by_col = [nnls(A, col)[0] for col in X_cols]\n",
    "    return np.column_stack(nnls_by_col)"
   ]
  },
  {
   "cell_type": "code",
   "execution_count": 99,
   "metadata": {},
   "outputs": [],
   "source": [
    "def do_training(X, y_vec, lmda, k, num_iters=100, *, return_loss_list = False, v_nonnegative=False):\n",
    "    \n",
    "    '''Iteratively minimizes $||AB - X||_F^2 + \\lambda^2||Av-y||^2$ where X and y are given, with A having k columns and B having\n",
    "    k rows. A and B are constrained to be non-negative.  v is not.'''\n",
    "        \n",
    "    m,n = X.shape\n",
    "    y = y_vec.reshape((m,1))\n",
    "\n",
    "    \n",
    "    #random initializations\n",
    "    A = np.random.normal(size=(m,k))\n",
    "    B = np.random.normal(size=(k,n))\n",
    "    v = np.random.normal(size=(k,1))\n",
    "    \n",
    "    def objective(A,B,v):\n",
    "        return np.linalg.norm(A @ B - X)**2 + (lmda**2) * np.linalg.norm(A@v - y)**2\n",
    "    \n",
    "    loss_list = []\n",
    "    \n",
    "    for i in range(0,num_iters):\n",
    "        \n",
    "        loss_list.append(objective(A,B,v))\n",
    "        \n",
    "        B = matrix_nnls(A,X)\n",
    "        \n",
    "        if v_nonnegative:\n",
    "            v = np.reshape( nnls(A, y.flatten())[0] , (k,1) )\n",
    "        else:\n",
    "            v = np.linalg.lstsq(A,y,rcond=None)[0]\n",
    "        \n",
    "        A = np.transpose(matrix_nnls( \n",
    "            np.transpose(np.concatenate( (B, lmda*v),axis=1) ), \n",
    "            np.transpose(np.concatenate( (X, lmda*y),axis=1) )))\n",
    "    \n",
    "    final_loss = objective(A,B,v)\n",
    "    loss_list.append(final_loss)\n",
    "    \n",
    "    if return_loss_list:\n",
    "        return (A,B,v), loss_list\n",
    "    else:\n",
    "        return (A,B,v), final_loss"
   ]
  },
  {
   "cell_type": "code",
   "execution_count": 56,
   "metadata": {},
   "outputs": [],
   "source": [
    "def do_inference(B,X,v):\n",
    "    '''Given B,X,v tries to predict y by computing A using non-negative least squares'''\n",
    "    \n",
    "    inferred_A = np.transpose(matrix_nnls(np.transpose(B), np.transpose(X)))\n",
    "    predicted_y = inferred_A @ v\n",
    "    return predicted_y"
   ]
  },
  {
   "cell_type": "markdown",
   "metadata": {},
   "source": [
    "<b>Example</b>"
   ]
  },
  {
   "cell_type": "code",
   "execution_count": 14,
   "metadata": {},
   "outputs": [],
   "source": [
    "X = np.array([[1,2,3],[4,5,6],[7,8,9]])\n",
    "y = np.array([2,1,1])"
   ]
  },
  {
   "cell_type": "code",
   "execution_count": 15,
   "metadata": {},
   "outputs": [
    {
     "data": {
      "text/plain": [
       "((array([[ 0.94494414,  3.7808692 ],\n",
       "         [ 5.90539501,  7.35343627],\n",
       "         [10.17917698, 11.30013436]]),\n",
       "  array([[5.50479639e-01, 2.75239819e-01, 2.37578021e-15],\n",
       "         [1.17844905e-01, 4.59727324e-01, 8.01609742e-01]]),\n",
       "  array([[-0.67247625],\n",
       "         [ 0.68944049]])),\n",
       " 0.04817195105184187)"
      ]
     },
     "execution_count": 15,
     "metadata": {},
     "output_type": "execute_result"
    }
   ],
   "source": [
    "do_training(X,y,lmda=1, k=2, num_iters=100)"
   ]
  },
  {
   "cell_type": "markdown",
   "metadata": {},
   "source": [
    "<b>Generating synthetic data</b>"
   ]
  },
  {
   "cell_type": "code",
   "execution_count": 57,
   "metadata": {},
   "outputs": [],
   "source": [
    "def perfectly_reconstructible(m,n,k):\n",
    "    \n",
    "    '''Constructs a perfectly reconstructible ensemble with rank k factorization.  X has dimensions mxn.'''\n",
    "    A = np.abs(np.random.normal(size = (m,k)))\n",
    "    B = np.abs(np.random.normal(size = (k,n)))\n",
    "    v = np.random.normal(size = (k,1))\n",
    "    \n",
    "    X = A @ B\n",
    "    y = A @ v\n",
    "    \n",
    "    return (X,y), (A,B,v)"
   ]
  },
  {
   "cell_type": "code",
   "execution_count": 58,
   "metadata": {},
   "outputs": [],
   "source": [
    "def noisy_problem(m,n,k, noise_rate=1):\n",
    "    '''Adds random positive noise to X. noise is the norm of the noise vector.'''\n",
    "    (X,y), (A,B,v) = perfectly_reconstructible(m,n,k)\n",
    "    \n",
    "    noise = np.abs(np.random.normal(size=(m,n)))\n",
    "    noise = noise_rate*(noise/np.linalg.norm(noise))\n",
    "    \n",
    "    X = X + noise\n",
    "    return (X,y), (A,B,v)"
   ]
  },
  {
   "cell_type": "code",
   "execution_count": 59,
   "metadata": {},
   "outputs": [],
   "source": [
    "def train_test_data(m,n,k, training_frac):\n",
    "    (X,y),(A,B,v) = perfectly_reconstructible(m,n,k)\n",
    "    num_train = ceil(training_frac*m)\n",
    "    \n",
    "    \n",
    "    X_train, X_test = X[0:num_train, :], X[num_train:m, :]\n",
    "    y_train, y_test = y[0:num_train, :], y[num_train:m, :]\n",
    "    \n",
    "    return (X_train, X_test), (y_train, y_test)"
   ]
  },
  {
   "cell_type": "markdown",
   "metadata": {},
   "source": [
    "<b>Testing on synthetic data</b>"
   ]
  },
  {
   "cell_type": "code",
   "execution_count": 8,
   "metadata": {},
   "outputs": [
    {
     "name": "stdout",
     "output_type": "stream",
     "text": [
      "Relative reconstruction errors:\n",
      "A:  13.410960262908127 \n",
      "B:  0.9514495092775532 \n",
      "v:  1.0836486641570706\n",
      "Final value of objective:  0.045342209378034404\n"
     ]
    }
   ],
   "source": [
    "(X,y), (A,B,v) = perfectly_reconstructible(100,100,k=2)\n",
    "(A_, B_, v_), objective_val = do_training(X, y, lmda=1, k=2, num_iters=100)\n",
    "\n",
    "A_err = np.linalg.norm(A - A_) / np.linalg.norm(A)\n",
    "B_err = np.linalg.norm(B - B_) / np.linalg.norm(B)\n",
    "v_err = np.linalg.norm(v - v_) / np.linalg.norm(v)\n",
    "\n",
    "print(\"Relative reconstruction errors:\")\n",
    "print(\"A: \", A_err, \"\\nB: \", B_err, \"\\nv: \", v_err)\n",
    "\n",
    "print(\"Final value of objective: \", objective_val)"
   ]
  },
  {
   "cell_type": "markdown",
   "metadata": {},
   "source": [
    "---\n",
    "How does $\\lambda$ effect the convergence behavior of our method?"
   ]
  },
  {
   "cell_type": "code",
   "execution_count": 114,
   "metadata": {},
   "outputs": [],
   "source": [
    "def hist_plots(hist_data):\n",
    "    fig, axs = plt.subplots(1, len(lmdas), sharey=True, sharex=True, tight_layout=True)\n",
    "\n",
    "    for i,data in enumerate(hist_data):\n",
    "        axs[i].hist(np.log(data), bins=10)\n",
    "        axs[i].set_xlabel(\"lamba=\"+str(lmdas[i]))"
   ]
  },
  {
   "cell_type": "code",
   "execution_count": 119,
   "metadata": {},
   "outputs": [
    {
     "name": "stderr",
     "output_type": "stream",
     "text": [
      "100%|██████████| 10/10 [00:02<00:00,  4.09it/s]\n",
      "100%|██████████| 10/10 [00:02<00:00,  3.93it/s]\n",
      "100%|██████████| 10/10 [00:02<00:00,  3.99it/s]\n",
      "100%|██████████| 10/10 [00:02<00:00,  3.98it/s]\n"
     ]
    },
    {
     "data": {
      "image/png": "[encoded data removed]",
      "text/plain": [
       "<Figure size 432x288 with 4 Axes>"
      ]
     },
     "metadata": {
      "needs_background": "light"
     },
     "output_type": "display_data"
    }
   ],
   "source": [
    "trials = 10\n",
    "iters = 100\n",
    "m,n,k = 50,50,5\n",
    "lmdas = [0,1,5,10]\n",
    "\n",
    "(X,y), (A,B,v) = noisy_problem(m,n,k, noise_rate=0.1)\n",
    "\n",
    "data_by_lambda =  [ [do_training(X, y, lmda=lmda, k=k, num_iters=iters)[-1] for i in tqdm(range(0,trials))] for lmda in lmdas]\n",
    "\n",
    "hist_plots(data_by_lambda)\n",
    "\n",
    "#fig, axs = plt.subplots(1, len(lmdas), sharey=True, sharex=True, tight_layout=True)\n",
    "\n",
    "#for i,data in enumerate(data_by_lambda):\n",
    "#    axs[i].hist(np.log(data), bins=10)\n",
    "#    axs[i].set_xlabel(\"lamba=\"+str(lmdas[i]))\n",
    "\n",
    "plt.show()"
   ]
  },
  {
   "cell_type": "markdown",
   "metadata": {},
   "source": [
    "---\n",
    "<b> Convergence Behavior </b>\n",
    "\n",
    "What does the convergence behavior look like on individual iterations? (For a fixed system.)"
   ]
  },
  {
   "cell_type": "code",
   "execution_count": 112,
   "metadata": {},
   "outputs": [],
   "source": [
    "def plot_convergence_curves(X,y, lmda, k, *, num_curves = 10, num_iters=200):\n",
    "    for i in tqdm(range(0,num_curves)):\n",
    "        losses = do_training(X, y, lmda=lmda, k=k, num_iters=num_iters, return_loss_list=True)[-1]\n",
    "        plt.plot(np.log(losses))\n",
    "    plt.show()"
   ]
  },
  {
   "cell_type": "markdown",
   "metadata": {},
   "source": [
    "Plot with no added noise"
   ]
  },
  {
   "cell_type": "code",
   "execution_count": 19,
   "metadata": {},
   "outputs": [
    {
     "data": {
      "image/png": "[encoded data removed]",
      "text/plain": [
       "<Figure size 432x288 with 1 Axes>"
      ]
     },
     "metadata": {
      "needs_background": "light"
     },
     "output_type": "display_data"
    }
   ],
   "source": [
    "m,n,k = 50,50,5\n",
    "lmda = 1\n",
    "(X,y), (A,B,v) = noisy_problem(m,n,k, noise_rate=0.0)\n",
    "plot_convergence_curves(X,y, lmda, k, num_curves=30, num_iters=1000)"
   ]
  },
  {
   "cell_type": "markdown",
   "metadata": {},
   "source": [
    "Plot with some noise"
   ]
  },
  {
   "cell_type": "code",
   "execution_count": 20,
   "metadata": {},
   "outputs": [
    {
     "data": {
      "image/png": "[encoded data removed]",
      "text/plain": [
       "<Figure size 432x288 with 1 Axes>"
      ]
     },
     "metadata": {
      "needs_background": "light"
     },
     "output_type": "display_data"
    }
   ],
   "source": [
    "m,n,k = 50,50,5\n",
    "lmda = 1\n",
    "(X,y), (A,B,v) = noisy_problem(m,n,k, noise_rate=0.1)\n",
    "plot_convergence_curves(X,y, lmda, k, num_curves=30, num_iters=1000)"
   ]
  },
  {
   "cell_type": "markdown",
   "metadata": {},
   "source": [
    "There is quite a bit of interesting behavior. For instance we occassionally see convergence to a cycle.  We also notice that we hit a convergence horizon when our system has noise (as we'd expect).  We also don't see this convergence horizon behavior when our system doesn't have noise.\n",
    "\n",
    "Nearly of our curves appear to show linear convergence in the limit.  There should hopefully be a theoretical reason for this."
   ]
  },
  {
   "cell_type": "markdown",
   "metadata": {},
   "source": [
    "<b> Testing ability of method to perform inference </b>"
   ]
  },
  {
   "cell_type": "code",
   "execution_count": 21,
   "metadata": {},
   "outputs": [
    {
     "name": "stdout",
     "output_type": "stream",
     "text": [
      "Relative Error 0.16777504295481624\n"
     ]
    }
   ],
   "source": [
    "m,n,k = 100,100,5\n",
    "training_frac = 0.8\n",
    "\n",
    "(X_train, X_test), (y_train, y_test) = train_test_data(m,n,k, training_frac)\n",
    "\n",
    "#training step\n",
    "(A, B, v), objective_val = do_training(X_train, y_train, lmda=100, k=2, num_iters=100)\n",
    "\n",
    "#inference step\n",
    "predicted_y = do_inference(B,X_test,v)\n",
    "\n",
    "#error analysis\n",
    "error = np.linalg.norm(predicted_y - y_test)/np.linalg.norm(y_test)\n",
    "print(\"Relative Error\", error)"
   ]
  },
  {
   "cell_type": "markdown",
   "metadata": {},
   "source": [
    "<b> Testing on Covid data </b>"
   ]
  },
  {
   "cell_type": "code",
   "execution_count": 64,
   "metadata": {},
   "outputs": [],
   "source": [
    "#Read in the covid and demographic data\n",
    "covid_col = demo_data.get_covid_column('Incidence_Rate')\n",
    "full_yu = demo_data.read_yu_data()\n",
    "(yu_train,covid_train), (yu_test,covid_test) = demo_data.training_test_data(full_yu, covid_col, test_frac=0.2)\n",
    "yu_train, covid_train, yu_test, covid_test = yu_train.to_numpy(), covid_train.to_numpy(), yu_test.to_numpy(), covid_test.to_numpy()"
   ]
  },
  {
   "cell_type": "code",
   "execution_count": 100,
   "metadata": {},
   "outputs": [
    {
     "name": "stdout",
     "output_type": "stream",
     "text": [
      "Relative Error:  3.1927448486799173\n",
      "True Error:  1.5653170325500736\n",
      "covid norm:  0.4902731369834563\n",
      "objective:  1.1028328141748636\n"
     ]
    }
   ],
   "source": [
    "(A, B, v), objective_val = do_training(yu_train, covid_train, lmda=1.0, k=10, num_iters=50, v_nonnegative=False)\n",
    "\n",
    "predicted_covid = do_inference(B,yu_test,v)\n",
    "error = np.linalg.norm(predicted_covid - covid_test)/np.linalg.norm(covid_test)\n",
    "\n",
    "print(\"Relative Error: \", error)\n",
    "print(\"True Error: \", np.linalg.norm(predicted_covid - covid_test))\n",
    "print(\"covid norm: \", np.linalg.norm(covid_test) )\n",
    "print(\"objective: \", objective_val)"
   ]
  },
  {
   "cell_type": "code",
   "execution_count": 111,
   "metadata": {},
   "outputs": [
    {
     "data": {
      "image/png": "[encoded data removed]",
      "text/plain": [
       "<Figure size 432x288 with 1 Axes>"
      ]
     },
     "metadata": {
      "needs_background": "light"
     },
     "output_type": "display_data"
    },
    {
     "name": "stdout",
     "output_type": "stream",
     "text": [
      "SpearmanrResult(correlation=0.16651560438891932, pvalue=4.673251503042106e-05)\n"
     ]
    }
   ],
   "source": [
    "plt.scatter(predicted_covid, covid_test)\n",
    "plt.show()\n",
    "print(spearmanr(predicted_covid.flatten(), covid_test.flatten()))"
   ]
  },
  {
   "cell_type": "code",
   "execution_count": 63,
   "metadata": {},
   "outputs": [
    {
     "name": "stdout",
     "output_type": "stream",
     "text": [
      "error with reconstructed A 3.5261371446696197\n",
      "With learned A:  0.0005033704675087632\n"
     ]
    }
   ],
   "source": [
    "#Evaluating on training data rather than testing data\n",
    "(A, B, v), objective_val = do_training(yu_train, covid_train, lmda=10, k=10, num_iters=50,v_nonnegative=False)\n",
    "\n",
    "predicted_covid = do_inference(B,yu_train,v)\n",
    "\n",
    "error = np.linalg.norm(predicted_covid - covid_train)\n",
    "print(\"error with reconstructed A\", error)\n",
    "\n",
    "#A \n",
    "error_A = np.linalg.norm(A@v - covid_train)\n",
    "print(\"With learned A: \", error_A)"
   ]
  },
  {
   "cell_type": "markdown",
   "metadata": {},
   "source": [
    "What does the \"learning curve\" look like on the covid data?"
   ]
  },
  {
   "cell_type": "code",
   "execution_count": 113,
   "metadata": {},
   "outputs": [
    {
     "name": "stderr",
     "output_type": "stream",
     "text": [
      "100%|██████████| 10/10 [02:23<00:00, 14.30s/it]\n"
     ]
    },
    {
     "data": {
      "image/png": "[encoded data removed]",
      "text/plain": [
       "<Figure size 432x288 with 1 Axes>"
      ]
     },
     "metadata": {
      "needs_background": "light"
     },
     "output_type": "display_data"
    }
   ],
   "source": [
    "k = 10\n",
    "lmda = 1000\n",
    "plt.ylim((0,1))\n",
    "plot_convergence_curves(yu_train, covid_train, lmda, k, num_curves=10, num_iters=100)"
   ]
  },
  {
   "cell_type": "markdown",
   "metadata": {},
   "source": [
    "---\n",
    "Let's see how the choice of lambda affects the predictive power of the model."
   ]
  },
  {
   "cell_type": "code",
   "execution_count": 125,
   "metadata": {},
   "outputs": [],
   "source": [
    "def covid_inference_experiment(lmda, k, num_iters):\n",
    "    (A, B, v), objective_val = do_training(yu_train, covid_train, lmda=lmda, k=k, num_iters=num_iters, v_nonnegative=False)\n",
    "    predicted_covid = do_inference(B,yu_test,v)\n",
    "    error = np.linalg.norm(predicted_covid - covid_test)/np.linalg.norm(covid_test)\n",
    "    return error"
   ]
  },
  {
   "cell_type": "code",
   "execution_count": 150,
   "metadata": {},
   "outputs": [
    {
     "name": "stderr",
     "output_type": "stream",
     "text": [
      "100%|██████████| 30/30 [03:35<00:00,  7.18s/it]\n",
      "100%|██████████| 30/30 [03:24<00:00,  6.82s/it]\n",
      "100%|██████████| 30/30 [03:23<00:00,  6.77s/it]\n",
      "100%|██████████| 30/30 [03:22<00:00,  6.75s/it]\n",
      "100%|██████████| 30/30 [03:27<00:00,  6.90s/it]\n",
      "100%|██████████| 30/30 [03:27<00:00,  6.93s/it]\n"
     ]
    }
   ],
   "source": [
    "lmdas = [0,0.1,1,10,100,1000]\n",
    "trials = 30\n",
    "\n",
    "inference_data = [ [covid_inference_experiment(lmda,k=10,num_iters=50) for i in tqdm(range(0,trials))] for lmda in lmdas]"
   ]
  },
  {
   "cell_type": "markdown",
   "metadata": {},
   "source": [
    "Notice that the quality of inference seems to decline as $\\lambda$ increases."
   ]
  },
  {
   "cell_type": "code",
   "execution_count": 151,
   "metadata": {},
   "outputs": [
    {
     "data": {
      "text/plain": [
       "array([0.89939913, 0.90532882, 5.3274495 , 3.00234946, 4.55240601,\n",
       "       3.73127508])"
      ]
     },
     "execution_count": 151,
     "metadata": {},
     "output_type": "execute_result"
    }
   ],
   "source": [
    "np.sum(inference_data, axis=1)/trials"
   ]
  },
  {
   "cell_type": "markdown",
   "metadata": {},
   "source": [
    "<b>TODO</b>\n",
    "\n",
    "Do we see saturation based on size of k for synthetic data?\n",
    "\n",
    "Do we do better by allowing v to be non-negative? (Doesn't seem to make too much of a difference.)"
   ]
  },
  {
   "cell_type": "markdown",
   "metadata": {},
   "source": [
    "<b> Questions, Comments </b>"
   ]
  },
  {
   "cell_type": "markdown",
   "metadata": {},
   "source": [
    "Why does $0$ seem to be an attractor of the iteration?"
   ]
  },
  {
   "cell_type": "markdown",
   "metadata": {},
   "source": [
    "How robust is this form of inference to the non-uniqueness of NMF? (It should probably be clear that permutation/normalization of topics doesn't matter?)"
   ]
  },
  {
   "cell_type": "code",
   "execution_count": null,
   "metadata": {},
   "outputs": [],
   "source": []
  }
 ],
 "metadata": {
  "kernelspec": {
   "display_name": "Python 3",
   "language": "python",
   "name": "python3"
  },
  "language_info": {
   "codemirror_mode": {
    "name": "ipython",
    "version": 3
   },
   "file_extension": ".py",
   "mimetype": "text/x-python",
   "name": "python",
   "nbconvert_exporter": "python",
   "pygments_lexer": "ipython3",
   "version": "3.8.3"
  }
 },
 "nbformat": 4,
 "nbformat_minor": 4
}
