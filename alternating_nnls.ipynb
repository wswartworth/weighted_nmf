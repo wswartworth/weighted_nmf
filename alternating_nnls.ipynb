{
 "cells": [
  {
   "cell_type": "code",
   "execution_count": 1,
   "metadata": {},
   "outputs": [],
   "source": [
    "import numpy as np\n",
    "from scipy.optimize import nnls\n",
    "from matplotlib import pyplot as plt"
   ]
  },
  {
   "cell_type": "markdown",
   "metadata": {},
   "source": [
    "Our goal is to optimize the function $||AB - X||_F^2 + \\lambda^2||Av-y||^2$ where $A,B$ are constrained to be non-negative while $v$ is not."
   ]
  },
  {
   "cell_type": "code",
   "execution_count": 2,
   "metadata": {},
   "outputs": [],
   "source": [
    "def matrix_nnls(A,X):\n",
    "    \n",
    "    '''Returns the non-negative matrix B which minimizes ||AB - X||^2'''\n",
    "    \n",
    "    m,k = A.shape\n",
    "    m_,n = X.shape\n",
    "    \n",
    "    if m != m_:\n",
    "        raise ValueError('First dimensions on inputs must match')\n",
    "       \n",
    "    X_cols = [X[:,i] for i in range(0,n)]\n",
    "    nnls_by_col = [nnls(A, col)[0] for col in X_cols]\n",
    "    return np.column_stack(nnls_by_col)"
   ]
  },
  {
   "cell_type": "code",
   "execution_count": 3,
   "metadata": {},
   "outputs": [],
   "source": [
    "def do_training(X, y_vec, lmda, k, num_iters=100, return_loss_list = False):\n",
    "    \n",
    "    '''Iteratively minimizes $||AB - X||_F^2 + \\lambda^2||Av-y||^2$ where X and y are given, with A having k columns and B having\n",
    "    k rows. A and B are constrained to be non-negative.  v is not.'''\n",
    "        \n",
    "    m,n = X.shape\n",
    "    y = y_vec.reshape((m,1))\n",
    "\n",
    "    \n",
    "    #random initializations\n",
    "    A = np.random.normal(size=(m,k))\n",
    "    B = np.random.normal(size=(k,n))\n",
    "    v = np.random.normal(size=(k,1))\n",
    "    \n",
    "    def objective(A,B,v):\n",
    "        return np.linalg.norm(A @ B - X)**2 + (lmda**2) * np.linalg.norm(A@v - y)**2\n",
    "    \n",
    "    loss_list = []\n",
    "    \n",
    "    for i in range(0,num_iters):\n",
    "        \n",
    "        loss_list.append(objective(A,B,v))\n",
    "        \n",
    "        B = matrix_nnls(A,X)\n",
    "        \n",
    "        v = np.linalg.lstsq(A,y,rcond=None)[0]\n",
    "        \n",
    "        A = np.transpose(matrix_nnls( \n",
    "            np.transpose(np.concatenate( (B, lmda*v),axis=1) ), \n",
    "            np.transpose(np.concatenate( (X, lmda*y),axis=1) )))\n",
    "    \n",
    "    final_loss = objective(A,B,v)\n",
    "    loss_list.append(final_loss)\n",
    "    \n",
    "    if return_loss_list:\n",
    "        return (A,B,v), loss_list\n",
    "    else:\n",
    "        return (A,B,v), final_loss"
   ]
  },
  {
   "cell_type": "markdown",
   "metadata": {},
   "source": [
    "<b>Example</b>"
   ]
  },
  {
   "cell_type": "code",
   "execution_count": 4,
   "metadata": {},
   "outputs": [],
   "source": [
    "X = np.array([[1,2,3],[4,5,6],[7,8,9]])\n",
    "y = np.array([2,1,1])"
   ]
  },
  {
   "cell_type": "code",
   "execution_count": 5,
   "metadata": {},
   "outputs": [
    {
     "data": {
      "text/plain": [
       "((array([[0., 0.],\n",
       "         [0., 0.],\n",
       "         [0., 0.]]),\n",
       "  array([[0., 0., 0.],\n",
       "         [0., 0., 0.]]),\n",
       "  array([[0.],\n",
       "         [0.]])),\n",
       " 291.00000000000006)"
      ]
     },
     "execution_count": 5,
     "metadata": {},
     "output_type": "execute_result"
    }
   ],
   "source": [
    "do_training(X,y,lmda=1, k=2, num_iters=100)"
   ]
  },
  {
   "cell_type": "markdown",
   "metadata": {},
   "source": [
    "<b>Generating synthetic data</b>"
   ]
  },
  {
   "cell_type": "code",
   "execution_count": 6,
   "metadata": {},
   "outputs": [],
   "source": [
    "def perfectly_reconstructible(m,n,k):\n",
    "    \n",
    "    '''Constructs a perfectly reconstructible ensemble with rank k factorization.  X has dimensions mxn.'''\n",
    "    A = np.abs(np.random.normal(size = (m,k)))\n",
    "    B = np.abs(np.random.normal(size = (k,n)))\n",
    "    v = np.random.normal(size = (k,1))\n",
    "    \n",
    "    X = A @ B\n",
    "    y = A @ v\n",
    "    \n",
    "    return (X,y), (A,B,v)"
   ]
  },
  {
   "cell_type": "code",
   "execution_count": 7,
   "metadata": {},
   "outputs": [],
   "source": [
    "def noisy_problem(m,n,k, noise_rate=1):\n",
    "    '''Adds random positive noise to X. noise is the norm of the noise vector.'''\n",
    "    (X,y), (A,B,v) = perfectly_reconstructible(m,n,k)\n",
    "    \n",
    "    noise = np.abs(np.random.normal(size=(m,n)))\n",
    "    noise = noise_rate*(noise/np.linalg.norm(noise))\n",
    "    \n",
    "    X = X + noise\n",
    "    return (X,y), (A,B,v)"
   ]
  },
  {
   "cell_type": "markdown",
   "metadata": {},
   "source": [
    "<b>Testing on synthetic data</b>"
   ]
  },
  {
   "cell_type": "code",
   "execution_count": 11,
   "metadata": {},
   "outputs": [
    {
     "name": "stdout",
     "output_type": "stream",
     "text": [
      "Relative reconstruction errors:\n",
      "A:  4.879477597572684 \n",
      "B:  0.8207988894243886 \n",
      "v:  0.8502616512659302\n",
      "Final value of objective:  0.00934708062771773\n"
     ]
    }
   ],
   "source": [
    "(X,y), (A,B,v) = perfectly_reconstructible(100,100,k=2)\n",
    "(A_, B_, v_), objective_val = do_training(X, y, lmda=1, k=2, num_iters=100)\n",
    "\n",
    "A_err = np.linalg.norm(A - A_) / np.linalg.norm(A)\n",
    "B_err = np.linalg.norm(B - B_) / np.linalg.norm(B)\n",
    "v_err = np.linalg.norm(v - v_) / np.linalg.norm(v)\n",
    "\n",
    "print(\"Relative reconstruction errors:\")\n",
    "print(\"A: \", A_err, \"\\nB: \", B_err, \"\\nv: \", v_err)\n",
    "\n",
    "print(\"Final value of objective: \", objective_val)"
   ]
  },
  {
   "cell_type": "markdown",
   "metadata": {},
   "source": [
    "---\n",
    "How does $\\lambda$ effect the convergence behavior of our method?"
   ]
  },
  {
   "cell_type": "code",
   "execution_count": 18,
   "metadata": {},
   "outputs": [
    {
     "data": {
      "image/png": "[encoded data removed]",
      "text/plain": [
       "<Figure size 432x288 with 4 Axes>"
      ]
     },
     "metadata": {
      "needs_background": "light"
     },
     "output_type": "display_data"
    }
   ],
   "source": [
    "trials = 100\n",
    "iters = 100\n",
    "m,n,k = 50,50,5\n",
    "lmdas = [0,1,5,10]\n",
    "\n",
    "(X,y), (A,B,v) = noisy_problem(m,n,k, noise_rate=0.1)\n",
    "\n",
    "data_by_lambda =  [ [do_training(X, y, lmda=lmda, k=k, num_iters=iters)[-1] for i in range(0,trials)] for lmda in lmdas]\n",
    "\n",
    "fig, axs = plt.subplots(1, len(lmdas), sharey=True, sharex=True, tight_layout=True)\n",
    "\n",
    "for i,data in enumerate(data_by_lambda):\n",
    "    axs[i].hist(np.log(data), bins=10)\n",
    "    axs[i].set_xlabel(\"lamba=\"+str(lmdas[i]))\n",
    "\n",
    "plt.show()"
   ]
  },
  {
   "cell_type": "markdown",
   "metadata": {},
   "source": [
    "---\n",
    "What does the convergence behavior look like on individual iterations? (For a fixed system.)"
   ]
  },
  {
   "cell_type": "code",
   "execution_count": 206,
   "metadata": {},
   "outputs": [
    {
     "data": {
      "image/png": "[encoded data removed]",
      "text/plain": [
       "<Figure size 432x288 with 1 Axes>"
      ]
     },
     "metadata": {
      "needs_background": "light"
     },
     "output_type": "display_data"
    }
   ],
   "source": [
    "m,n,k = 50,50,5\n",
    "lmda = 1\n",
    "(X,y), (A,B,v) = noisy_problem(m,n,k, noise_rate=0.1)\n",
    "\n",
    "for i in range(0,30):\n",
    "    losses = do_training(X, y, lmda=1, k=k, num_iters=1000, return_loss_list=True)[-1]\n",
    "    plt.plot(np.log(losses))\n",
    "\n",
    "plt.show()"
   ]
  },
  {
   "cell_type": "markdown",
   "metadata": {},
   "source": [
    "Here we plot the log loss as a function of the iteration number for various random initializations."
   ]
  },
  {
   "cell_type": "code",
   "execution_count": 13,
   "metadata": {},
   "outputs": [],
   "source": [
    "L = [1,2,3]"
   ]
  },
  {
   "cell_type": "code",
   "execution_count": 14,
   "metadata": {},
   "outputs": [
    {
     "name": "stdout",
     "output_type": "stream",
     "text": [
      "(0, 1)\n",
      "(1, 2)\n",
      "(2, 3)\n"
     ]
    }
   ],
   "source": [
    "for e in enumerate(L):\n",
    "    print(e)"
   ]
  },
  {
   "cell_type": "code",
   "execution_count": null,
   "metadata": {},
   "outputs": [],
   "source": []
  }
 ],
 "metadata": {
  "kernelspec": {
   "display_name": "Python 3",
   "language": "python",
   "name": "python3"
  },
  "language_info": {
   "codemirror_mode": {
    "name": "ipython",
    "version": 3
   },
   "file_extension": ".py",
   "mimetype": "text/x-python",
   "name": "python",
   "nbconvert_exporter": "python",
   "pygments_lexer": "ipython3",
   "version": "3.8.3"
  }
 },
 "nbformat": 4,
 "nbformat_minor": 4
}
