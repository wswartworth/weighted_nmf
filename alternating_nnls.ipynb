{
 "cells": [
  {
   "cell_type": "code",
   "execution_count": 1,
   "metadata": {},
   "outputs": [],
   "source": [
    "import numpy as np\n",
    "from scipy.optimize import nnls\n",
    "from matplotlib import pyplot as plt\n",
    "from math import ceil\n",
    "\n",
    "import demo_data"
   ]
  },
  {
   "cell_type": "markdown",
   "metadata": {},
   "source": [
    "Our goal is to optimize the function $||AB - X||_F^2 + \\lambda^2||Av-y||^2$ where $A,B$ are constrained to be non-negative while $v$ is not."
   ]
  },
  {
   "cell_type": "code",
   "execution_count": 2,
   "metadata": {},
   "outputs": [],
   "source": [
    "def matrix_nnls(A,X):\n",
    "    \n",
    "    '''Returns the non-negative matrix B which minimizes ||AB - X||^2'''\n",
    "    \n",
    "    m,k = A.shape\n",
    "    m_,n = X.shape\n",
    "    \n",
    "    if m != m_:\n",
    "        raise ValueError('First dimensions on inputs must match')\n",
    "       \n",
    "    X_cols = [X[:,i] for i in range(0,n)]\n",
    "    nnls_by_col = [nnls(A, col)[0] for col in X_cols]\n",
    "    return np.column_stack(nnls_by_col)"
   ]
  },
  {
   "cell_type": "code",
   "execution_count": 3,
   "metadata": {},
   "outputs": [],
   "source": [
    "def do_training(X, y_vec, lmda, k, num_iters=100, return_loss_list = False):\n",
    "    \n",
    "    '''Iteratively minimizes $||AB - X||_F^2 + \\lambda^2||Av-y||^2$ where X and y are given, with A having k columns and B having\n",
    "    k rows. A and B are constrained to be non-negative.  v is not.'''\n",
    "        \n",
    "    m,n = X.shape\n",
    "    y = y_vec.reshape((m,1))\n",
    "\n",
    "    \n",
    "    #random initializations\n",
    "    A = np.random.normal(size=(m,k))\n",
    "    B = np.random.normal(size=(k,n))\n",
    "    v = np.random.normal(size=(k,1))\n",
    "    \n",
    "    def objective(A,B,v):\n",
    "        return np.linalg.norm(A @ B - X)**2 + (lmda**2) * np.linalg.norm(A@v - y)**2\n",
    "    \n",
    "    loss_list = []\n",
    "    \n",
    "    for i in range(0,num_iters):\n",
    "        \n",
    "        loss_list.append(objective(A,B,v))\n",
    "        \n",
    "        B = matrix_nnls(A,X)\n",
    "        \n",
    "        v = np.linalg.lstsq(A,y,rcond=None)[0]\n",
    "        \n",
    "        A = np.transpose(matrix_nnls( \n",
    "            np.transpose(np.concatenate( (B, lmda*v),axis=1) ), \n",
    "            np.transpose(np.concatenate( (X, lmda*y),axis=1) )))\n",
    "    \n",
    "    final_loss = objective(A,B,v)\n",
    "    loss_list.append(final_loss)\n",
    "    \n",
    "    if return_loss_list:\n",
    "        return (A,B,v), loss_list\n",
    "    else:\n",
    "        return (A,B,v), final_loss"
   ]
  },
  {
   "cell_type": "code",
   "execution_count": 4,
   "metadata": {},
   "outputs": [],
   "source": [
    "def do_inference(B,X,v):\n",
    "    '''Given B,X,v tries to predict y by computing A using non-negative least squares'''\n",
    "    \n",
    "    inferred_A = np.transpose(matrix_nnls(np.transpose(B), np.transpose(X)))\n",
    "    predicted_y = inferred_A @ v\n",
    "    return predicted_y"
   ]
  },
  {
   "cell_type": "markdown",
   "metadata": {},
   "source": [
    "<b>Example</b>"
   ]
  },
  {
   "cell_type": "code",
   "execution_count": 14,
   "metadata": {},
   "outputs": [],
   "source": [
    "X = np.array([[1,2,3],[4,5,6],[7,8,9]])\n",
    "y = np.array([2,1,1])"
   ]
  },
  {
   "cell_type": "code",
   "execution_count": 15,
   "metadata": {},
   "outputs": [
    {
     "data": {
      "text/plain": [
       "((array([[ 0.94494414,  3.7808692 ],\n",
       "         [ 5.90539501,  7.35343627],\n",
       "         [10.17917698, 11.30013436]]),\n",
       "  array([[5.50479639e-01, 2.75239819e-01, 2.37578021e-15],\n",
       "         [1.17844905e-01, 4.59727324e-01, 8.01609742e-01]]),\n",
       "  array([[-0.67247625],\n",
       "         [ 0.68944049]])),\n",
       " 0.04817195105184187)"
      ]
     },
     "execution_count": 15,
     "metadata": {},
     "output_type": "execute_result"
    }
   ],
   "source": [
    "do_training(X,y,lmda=1, k=2, num_iters=100)"
   ]
  },
  {
   "cell_type": "markdown",
   "metadata": {},
   "source": [
    "<b>Generating synthetic data</b>"
   ]
  },
  {
   "cell_type": "code",
   "execution_count": 5,
   "metadata": {},
   "outputs": [],
   "source": [
    "def perfectly_reconstructible(m,n,k):\n",
    "    \n",
    "    '''Constructs a perfectly reconstructible ensemble with rank k factorization.  X has dimensions mxn.'''\n",
    "    A = np.abs(np.random.normal(size = (m,k)))\n",
    "    B = np.abs(np.random.normal(size = (k,n)))\n",
    "    v = np.random.normal(size = (k,1))\n",
    "    \n",
    "    X = A @ B\n",
    "    y = A @ v\n",
    "    \n",
    "    return (X,y), (A,B,v)"
   ]
  },
  {
   "cell_type": "code",
   "execution_count": 6,
   "metadata": {},
   "outputs": [],
   "source": [
    "def noisy_problem(m,n,k, noise_rate=1):\n",
    "    '''Adds random positive noise to X. noise is the norm of the noise vector.'''\n",
    "    (X,y), (A,B,v) = perfectly_reconstructible(m,n,k)\n",
    "    \n",
    "    noise = np.abs(np.random.normal(size=(m,n)))\n",
    "    noise = noise_rate*(noise/np.linalg.norm(noise))\n",
    "    \n",
    "    X = X + noise\n",
    "    return (X,y), (A,B,v)"
   ]
  },
  {
   "cell_type": "code",
   "execution_count": 7,
   "metadata": {},
   "outputs": [],
   "source": [
    "def train_test_data(m,n,k, training_frac):\n",
    "    (X,y),(A,B,v) = perfectly_reconstructible(m,n,k)\n",
    "    num_train = ceil(training_frac*m)\n",
    "    \n",
    "    \n",
    "    X_train, X_test = X[0:num_train, :], X[num_train:m, :]\n",
    "    y_train, y_test = y[0:num_train, :], y[num_train:m, :]\n",
    "    \n",
    "    return (X_train, X_test), (y_train, y_test)"
   ]
  },
  {
   "cell_type": "markdown",
   "metadata": {},
   "source": [
    "<b>Testing on synthetic data</b>"
   ]
  },
  {
   "cell_type": "code",
   "execution_count": 8,
   "metadata": {},
   "outputs": [
    {
     "name": "stdout",
     "output_type": "stream",
     "text": [
      "Relative reconstruction errors:\n",
      "A:  13.410960262908127 \n",
      "B:  0.9514495092775532 \n",
      "v:  1.0836486641570706\n",
      "Final value of objective:  0.045342209378034404\n"
     ]
    }
   ],
   "source": [
    "(X,y), (A,B,v) = perfectly_reconstructible(100,100,k=2)\n",
    "(A_, B_, v_), objective_val = do_training(X, y, lmda=1, k=2, num_iters=100)\n",
    "\n",
    "A_err = np.linalg.norm(A - A_) / np.linalg.norm(A)\n",
    "B_err = np.linalg.norm(B - B_) / np.linalg.norm(B)\n",
    "v_err = np.linalg.norm(v - v_) / np.linalg.norm(v)\n",
    "\n",
    "print(\"Relative reconstruction errors:\")\n",
    "print(\"A: \", A_err, \"\\nB: \", B_err, \"\\nv: \", v_err)\n",
    "\n",
    "print(\"Final value of objective: \", objective_val)"
   ]
  },
  {
   "cell_type": "markdown",
   "metadata": {},
   "source": [
    "---\n",
    "How does $\\lambda$ effect the convergence behavior of our method?"
   ]
  },
  {
   "cell_type": "code",
   "execution_count": null,
   "metadata": {},
   "outputs": [],
   "source": [
    "trials = 100\n",
    "iters = 100\n",
    "m,n,k = 50,50,5\n",
    "lmdas = [0,1,5,10]\n",
    "\n",
    "(X,y), (A,B,v) = noisy_problem(m,n,k, noise_rate=0.1)\n",
    "\n",
    "data_by_lambda =  [ [do_training(X, y, lmda=lmda, k=k, num_iters=iters)[-1] for i in range(0,trials)] for lmda in lmdas]\n",
    "\n",
    "fig, axs = plt.subplots(1, len(lmdas), sharey=True, sharex=True, tight_layout=True)\n",
    "\n",
    "for i,data in enumerate(data_by_lambda):\n",
    "    axs[i].hist(np.log(data), bins=10)\n",
    "    axs[i].set_xlabel(\"lamba=\"+str(lmdas[i]))\n",
    "\n",
    "plt.show()"
   ]
  },
  {
   "cell_type": "markdown",
   "metadata": {},
   "source": [
    "---\n",
    "<b> Convergence Behavior </b>\n",
    "\n",
    "What does the convergence behavior look like on individual iterations? (For a fixed system.)"
   ]
  },
  {
   "cell_type": "code",
   "execution_count": 12,
   "metadata": {},
   "outputs": [],
   "source": [
    "def plot_convergence_curves(X,y, lmda, k, *, num_curves = 10, num_iters=200):\n",
    "    for i in range(0,num_curves):\n",
    "        losses = do_training(X, y, lmda=lmda, k=k, num_iters=num_iters, return_loss_list=True)[-1]\n",
    "        plt.plot(np.log(losses))\n",
    "        print(i)\n",
    "    plt.show()"
   ]
  },
  {
   "cell_type": "markdown",
   "metadata": {},
   "source": [
    "Plot with no added noise"
   ]
  },
  {
   "cell_type": "code",
   "execution_count": 19,
   "metadata": {},
   "outputs": [
    {
     "data": {
      "image/png": "[encoded data removed]",
      "text/plain": [
       "<Figure size 432x288 with 1 Axes>"
      ]
     },
     "metadata": {
      "needs_background": "light"
     },
     "output_type": "display_data"
    }
   ],
   "source": [
    "m,n,k = 50,50,5\n",
    "lmda = 1\n",
    "(X,y), (A,B,v) = noisy_problem(m,n,k, noise_rate=0.0)\n",
    "plot_convergence_curves(X,y, lmda, k, num_curves=30, num_iters=1000)"
   ]
  },
  {
   "cell_type": "markdown",
   "metadata": {},
   "source": [
    "Plot with some noise"
   ]
  },
  {
   "cell_type": "code",
   "execution_count": 20,
   "metadata": {},
   "outputs": [
    {
     "data": {
      "image/png": "[encoded data removed]",
      "text/plain": [
       "<Figure size 432x288 with 1 Axes>"
      ]
     },
     "metadata": {
      "needs_background": "light"
     },
     "output_type": "display_data"
    }
   ],
   "source": [
    "m,n,k = 50,50,5\n",
    "lmda = 1\n",
    "(X,y), (A,B,v) = noisy_problem(m,n,k, noise_rate=0.1)\n",
    "plot_convergence_curves(X,y, lmda, k, num_curves=30, num_iters=1000)"
   ]
  },
  {
   "cell_type": "markdown",
   "metadata": {},
   "source": [
    "There is quite a bit of interesting behavior. For instance we occassionally see convergence to a cycle.  We also notice that we hit a convergence horizon when our system has noise (as we'd expect).  We also don't see this convergence horizon behavior when our system doesn't have noise.\n",
    "\n",
    "Nearly of our curves appear to show linear convergence in the limit.  There should hopefully be a theoretical reason for this."
   ]
  },
  {
   "cell_type": "markdown",
   "metadata": {},
   "source": [
    "<b> Testing ability of method to perform inference </b>"
   ]
  },
  {
   "cell_type": "code",
   "execution_count": 21,
   "metadata": {},
   "outputs": [
    {
     "name": "stdout",
     "output_type": "stream",
     "text": [
      "Relative Error 0.16777504295481624\n"
     ]
    }
   ],
   "source": [
    "m,n,k = 100,100,5\n",
    "training_frac = 0.8\n",
    "\n",
    "(X_train, X_test), (y_train, y_test) = train_test_data(m,n,k, training_frac)\n",
    "\n",
    "#training step\n",
    "(A, B, v), objective_val = do_training(X_train, y_train, lmda=100, k=2, num_iters=100)\n",
    "\n",
    "#inference step\n",
    "predicted_y = do_inference(B,X_test,v)\n",
    "\n",
    "#error analysis\n",
    "error = np.linalg.norm(predicted_y - y_test)/np.linalg.norm(y_test)\n",
    "print(\"Relative Error\", error)"
   ]
  },
  {
   "cell_type": "markdown",
   "metadata": {},
   "source": [
    "<b> Testing on Covid data </b>"
   ]
  },
  {
   "cell_type": "code",
   "execution_count": 10,
   "metadata": {},
   "outputs": [],
   "source": [
    "#Read in the covid and demographic data\n",
    "covid_col = demo_data.get_covid_column('Incidence_Rate')\n",
    "full_yu = demo_data.read_yu_data()\n",
    "(yu_train,covid_train), (yu_test,covid_test) = demo_data.training_test_data(full_yu, covid_col, test_frac=0.2)\n",
    "yu_train, covid_train, yu_test, covid_test = yu_train.to_numpy(), covid_train.to_numpy(), yu_test.to_numpy(), covid_test.to_numpy()"
   ]
  },
  {
   "cell_type": "code",
   "execution_count": 27,
   "metadata": {},
   "outputs": [
    {
     "name": "stdout",
     "output_type": "stream",
     "text": [
      "Relative Error:  4.740607818040031\n",
      "True Error:  1.7236867623864285\n",
      "covid norm:  0.3636003712070563\n",
      "objective:  1.130154453894106\n"
     ]
    }
   ],
   "source": [
    "(A, B, v), objective_val = do_training(yu_train, covid_train, lmda=100, k=10, num_iters=50)\n",
    "\n",
    "predicted_covid = do_inference(B,yu_test,v)\n",
    "error = np.linalg.norm(predicted_covid - covid_test)/np.linalg.norm(covid_test)\n",
    "\n",
    "print(\"Relative Error: \", error)\n",
    "print(\"True Error: \", np.linalg.norm(predicted_covid - covid_test))\n",
    "print(\"covid norm: \", np.linalg.norm(covid_test) )\n",
    "print(\"objective: \", objective_val)"
   ]
  },
  {
   "cell_type": "code",
   "execution_count": 24,
   "metadata": {},
   "outputs": [
    {
     "name": "stdout",
     "output_type": "stream",
     "text": [
      "Relative Error 3.4252927911908233\n"
     ]
    }
   ],
   "source": [
    "#Evaluating on training data rather than testing data\n",
    "(A, B, v), objective_val = do_training(yu_train, covid_train, lmda=100, k=10, num_iters=50)\n",
    "\n",
    "predicted_covid = do_inference(B,yu_train,v)\n",
    "error = np.linalg.norm(predicted_covid - covid_train)/np.linalg.norm(covid_train)\n",
    "\n",
    "print(\"Relative Error\", error)"
   ]
  },
  {
   "cell_type": "markdown",
   "metadata": {},
   "source": [
    "What does the \"learning curve\" look like on the covid data?"
   ]
  },
  {
   "cell_type": "code",
   "execution_count": 19,
   "metadata": {},
   "outputs": [
    {
     "name": "stdout",
     "output_type": "stream",
     "text": [
      "0\n",
      "1\n",
      "2\n",
      "3\n",
      "4\n",
      "5\n",
      "6\n",
      "7\n",
      "8\n",
      "9\n"
     ]
    },
    {
     "data": {
      "image/png": "[encoded data removed]",
      "text/plain": [
       "<Figure size 432x288 with 1 Axes>"
      ]
     },
     "metadata": {
      "needs_background": "light"
     },
     "output_type": "display_data"
    }
   ],
   "source": [
    "k = 10\n",
    "lmda = 1000\n",
    "plt.ylim((0,1))\n",
    "plot_convergence_curves(yu_train, covid_train, lmda, k, num_curves=10, num_iters=100)"
   ]
  },
  {
   "cell_type": "markdown",
   "metadata": {},
   "source": [
    "<b>TODO</b>\n",
    "Testing results as a funtion of iteration."
   ]
  },
  {
   "cell_type": "markdown",
   "metadata": {},
   "source": [
    "<b> Questions, Comments </b>"
   ]
  },
  {
   "cell_type": "markdown",
   "metadata": {},
   "source": [
    "Why does $0$ seem to be an attractor of the iteration?"
   ]
  },
  {
   "cell_type": "markdown",
   "metadata": {},
   "source": [
    "How robust is this form of inference to the non-uniqueness of NMF? (It should probably be clear that permutation/normalization of topics doesn't matter?)"
   ]
  },
  {
   "cell_type": "code",
   "execution_count": null,
   "metadata": {},
   "outputs": [],
   "source": []
  }
 ],
 "metadata": {
  "kernelspec": {
   "display_name": "Python 3",
   "language": "python",
   "name": "python3"
  },
  "language_info": {
   "codemirror_mode": {
    "name": "ipython",
    "version": 3
   },
   "file_extension": ".py",
   "mimetype": "text/x-python",
   "name": "python",
   "nbconvert_exporter": "python",
   "pygments_lexer": "ipython3",
   "version": "3.8.3"
  }
 },
 "nbformat": 4,
 "nbformat_minor": 4
}
