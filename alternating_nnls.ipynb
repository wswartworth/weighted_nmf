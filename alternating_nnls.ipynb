{
 "cells": [
  {
   "cell_type": "code",
   "execution_count": 161,
   "metadata": {},
   "outputs": [],
   "source": [
    "import numpy as np\n",
    "from scipy.optimize import nnls"
   ]
  },
  {
   "cell_type": "markdown",
   "metadata": {},
   "source": [
    "Our goal is to optimize the function $||AB - X||_F^2 + \\lambda||Av-y||^2$ where $A,B$ are constrained to be non-negative while $v$ is not."
   ]
  },
  {
   "cell_type": "code",
   "execution_count": 162,
   "metadata": {},
   "outputs": [],
   "source": [
    "def matrix_nnls(A,X):\n",
    "    \n",
    "    '''Returns the non-negative matrix B which minimizes ||AB - X||^2'''\n",
    "    \n",
    "    m,k = A.shape\n",
    "    m_,n = X.shape\n",
    "    \n",
    "    if m != m_:\n",
    "        raise ValueError('First dimensions on inputs must match')\n",
    "    \n",
    "    #display(\"X:\", X)\n",
    "    #display(\"m,n:, \", m, n)\n",
    "    \n",
    "    \n",
    "    X_cols = [X[:,i] for i in range(0,n)]\n",
    "    nnls_by_col = [nnls(A, col)[0] for col in X_cols]\n",
    "    return np.column_stack(nnls_by_col)"
   ]
  },
  {
   "cell_type": "code",
   "execution_count": 163,
   "metadata": {},
   "outputs": [],
   "source": [
    "def do_training(X, y_vec, lmda, k, num_iters=100):\n",
    "    \n",
    "    '''Iteratively minimizes $||AB - X||_F^2 + \\lambda||Av-y||^2$ where X and y are given, with A having k columns and B having\n",
    "    k rows. A and B are constrained to be non-negative.  v is not.'''\n",
    "        \n",
    "    m,n = X.shape\n",
    "    y = y_vec.reshape((m,1))\n",
    "\n",
    "    \n",
    "    #random initializations\n",
    "    A = np.random.normal(size=(m,k))\n",
    "    B = np.random.normal(size=(k,n))\n",
    "    v = np.random.normal(size=(k,1))\n",
    "    \n",
    "    for i in range(0,num_iters):\n",
    "        B = matrix_nnls(A,X)\n",
    "        v = np.linalg.lstsq(A,y,rcond=None)[0]\n",
    "        \n",
    "        #display(\"B\", B)\n",
    "        #display(\"v\", v)\n",
    "        \n",
    "        A = np.transpose(matrix_nnls( \n",
    "            np.transpose(np.concatenate( (B, lmda*v),axis=1) ), \n",
    "            np.transpose(np.concatenate( (X, lmda*y),axis=1) )))\n",
    "    \n",
    "    return A,B,v"
   ]
  },
  {
   "cell_type": "markdown",
   "metadata": {},
   "source": [
    "Example:"
   ]
  },
  {
   "cell_type": "code",
   "execution_count": 165,
   "metadata": {},
   "outputs": [],
   "source": [
    "X = np.array([[1,2,3],[4,5,6],[7,8,9]])\n",
    "y = np.array([2,1,1])"
   ]
  },
  {
   "cell_type": "code",
   "execution_count": 179,
   "metadata": {},
   "outputs": [
    {
     "data": {
      "text/plain": [
       "(array([[0.00536359, 1.14179366],\n",
       "        [1.3913214 , 2.22068166],\n",
       "        [2.51295013, 3.41255438]]),\n",
       " array([[1.62150018e+00, 8.10750090e-01, 1.41707768e-14],\n",
       "        [8.38182643e-01, 1.74629329e+00, 2.65440394e+00]]),\n",
       " array([[-1.98085501],\n",
       "        [ 1.73573946]]))"
      ]
     },
     "execution_count": 179,
     "metadata": {},
     "output_type": "execute_result"
    }
   ],
   "source": [
    "do_training(X,y,lmda=1, k=2, num_iters=100)"
   ]
  },
  {
   "cell_type": "code",
   "execution_count": null,
   "metadata": {},
   "outputs": [],
   "source": []
  }
 ],
 "metadata": {
  "kernelspec": {
   "display_name": "Python 3",
   "language": "python",
   "name": "python3"
  },
  "language_info": {
   "codemirror_mode": {
    "name": "ipython",
    "version": 3
   },
   "file_extension": ".py",
   "mimetype": "text/x-python",
   "name": "python",
   "nbconvert_exporter": "python",
   "pygments_lexer": "ipython3",
   "version": "3.8.3"
  }
 },
 "nbformat": 4,
 "nbformat_minor": 4
}
