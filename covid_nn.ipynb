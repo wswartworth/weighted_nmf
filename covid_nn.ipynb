{
 "cells": [
  {
   "cell_type": "code",
   "execution_count": 93,
   "metadata": {},
   "outputs": [],
   "source": [
    "import tensorflow as tf\n",
    "import numpy as np\n",
    "import matplotlib.pyplot as plt\n",
    "\n",
    "from scipy.stats import pearsonr, spearmanr\n",
    "\n",
    "import demo_data"
   ]
  },
  {
   "cell_type": "code",
   "execution_count": 54,
   "metadata": {},
   "outputs": [],
   "source": [
    "covid_col = demo_data.get_covid_column('Incidence_Rate')\n",
    "full_yu = demo_data.read_yu_data()\n",
    "(yu_train,covid_train), (yu_test,covid_test) = demo_data.training_test_data(full_yu, covid_col, test_frac=0.2)\n",
    "yu_train, covid_train, yu_test, covid_test = tf.constant(yu_train.to_numpy()), tf.constant(covid_train.to_numpy()),\\\n",
    "tf.constant(yu_test.to_numpy()), tf.constant(covid_test.to_numpy())"
   ]
  },
  {
   "cell_type": "code",
   "execution_count": 85,
   "metadata": {},
   "outputs": [],
   "source": [
    "model = tf.keras.Sequential()\n",
    "model.add(tf.keras.layers.Dense(50,activation='sigmoid'))\n",
    "model.add(tf.keras.layers.Dense(10,activation='sigmoid'))\n",
    "model.add(tf.keras.layers.Dense(1,activation='sigmoid'))\n",
    "model.build((None, yu_train.shape[1]))"
   ]
  },
  {
   "cell_type": "code",
   "execution_count": 86,
   "metadata": {},
   "outputs": [
    {
     "name": "stdout",
     "output_type": "stream",
     "text": [
      "Model: \"sequential_14\"\n",
      "_________________________________________________________________\n",
      "Layer (type)                 Output Shape              Param #   \n",
      "=================================================================\n",
      "dense_28 (Dense)             (None, 50)                4750      \n",
      "_________________________________________________________________\n",
      "dense_29 (Dense)             (None, 10)                510       \n",
      "_________________________________________________________________\n",
      "dense_30 (Dense)             (None, 1)                 11        \n",
      "=================================================================\n",
      "Total params: 5,271\n",
      "Trainable params: 5,271\n",
      "Non-trainable params: 0\n",
      "_________________________________________________________________\n"
     ]
    }
   ],
   "source": [
    "model.summary()"
   ]
  },
  {
   "cell_type": "code",
   "execution_count": 87,
   "metadata": {},
   "outputs": [],
   "source": [
    "model.compile(optimizer='sgd', loss='mse')"
   ]
  },
  {
   "cell_type": "code",
   "execution_count": 88,
   "metadata": {},
   "outputs": [
    {
     "name": "stdout",
     "output_type": "stream",
     "text": [
      "Epoch 1/5\n",
      "2364/2364 [==============================] - 1s 568us/step - loss: 0.0127\n",
      "Epoch 2/5\n",
      "2364/2364 [==============================] - 1s 560us/step - loss: 0.0013\n",
      "Epoch 3/5\n",
      "2364/2364 [==============================] - 1s 590us/step - loss: 7.9625e-04\n",
      "Epoch 4/5\n",
      "2364/2364 [==============================] - 1s 615us/step - loss: 5.9877e-04\n",
      "Epoch 5/5\n",
      "2364/2364 [==============================] - 1s 573us/step - loss: 4.9948e-04\n"
     ]
    },
    {
     "data": {
      "text/plain": [
       "<tensorflow.python.keras.callbacks.History at 0x7fb5791944c0>"
      ]
     },
     "execution_count": 88,
     "metadata": {},
     "output_type": "execute_result"
    }
   ],
   "source": [
    "model.fit(yu_train, covid_train, batch_size = 1, epochs=5)"
   ]
  },
  {
   "cell_type": "code",
   "execution_count": 89,
   "metadata": {},
   "outputs": [
    {
     "name": "stdout",
     "output_type": "stream",
     "text": [
      "Relative testing error:  1.494555201394229\n"
     ]
    }
   ],
   "source": [
    "#Error on the testing data\n",
    "test_predictions = model.predict(yu_test)\n",
    "error = tf.reduce_sum((test_predictions - covid_test)**2).numpy()\n",
    "test_norm_sq = tf.reduce_sum(covid_test**2).numpy()\n",
    "relative_error = error/test_norm_sq\n",
    "print(\"Relative testing error: \", relative_error)"
   ]
  },
  {
   "cell_type": "code",
   "execution_count": 90,
   "metadata": {},
   "outputs": [
    {
     "name": "stdout",
     "output_type": "stream",
     "text": [
      "Relative **training** error:  1.3236392638999985\n"
     ]
    }
   ],
   "source": [
    "#Error on the training data\n",
    "training_predictions = model.predict(yu_train)\n",
    "error = tf.reduce_sum((training_predictions - covid_train)**2).numpy()\n",
    "test_norm_sq = tf.reduce_sum(covid_train**2).numpy()\n",
    "relative_error = error/test_norm_sq\n",
    "print(\"Relative **training** error: \", relative_error)"
   ]
  },
  {
   "cell_type": "code",
   "execution_count": 92,
   "metadata": {},
   "outputs": [
    {
     "data": {
      "text/plain": [
       "<matplotlib.collections.PathCollection at 0x7fb57ff63850>"
      ]
     },
     "execution_count": 92,
     "metadata": {},
     "output_type": "execute_result"
    },
    {
     "data": {
      "image/png": "[encoded data removed]",
      "text/plain": [
       "<Figure size 432x288 with 1 Axes>"
      ]
     },
     "metadata": {
      "needs_background": "light"
     },
     "output_type": "display_data"
    }
   ],
   "source": [
    "test_predictions = model.predict(yu_test)\n",
    "plt.scatter(test_predictions, covid_test)"
   ]
  },
  {
   "cell_type": "markdown",
   "metadata": {},
   "source": [
    "How well does the output of the NN correlate with the true incidence rate?"
   ]
  },
  {
   "cell_type": "code",
   "execution_count": 107,
   "metadata": {},
   "outputs": [
    {
     "name": "stdout",
     "output_type": "stream",
     "text": [
      "(0.12077131217800789, 0.0032498393333730115)\n"
     ]
    }
   ],
   "source": [
    "test_predictions = model.predict(yu_test)\n",
    "print(pearsonr(test_predictions.flatten(), covid_test.numpy().flatten()))"
   ]
  },
  {
   "cell_type": "code",
   "execution_count": 102,
   "metadata": {},
   "outputs": [
    {
     "data": {
      "text/plain": [
       "array([0.02287272, 0.02283898, 0.02286035, 0.02283075, 0.02284345,\n",
       "       0.02285787, 0.02283353, 0.02285811, 0.02284619, 0.02284327,\n",
       "       0.02284935, 0.02285308, 0.02286589, 0.02295339, 0.02285776,\n",
       "       0.02283695, 0.0231216 , 0.02283999, 0.0228844 , 0.02284136,\n",
       "       0.02284729, 0.02284485, 0.02283251, 0.0228461 , 0.02286407,\n",
       "       0.02282202, 0.0228464 , 0.02282894, 0.02284026, 0.02291337,\n",
       "       0.02285364, 0.02285179, 0.02284488, 0.02284533, 0.02282655,\n",
       "       0.02286065, 0.02283752, 0.02283269, 0.02283829, 0.02284783,\n",
       "       0.02282995, 0.02283373, 0.02285144, 0.02284583, 0.02284536,\n",
       "       0.02283818, 0.02283213, 0.02283257, 0.02282727, 0.02285862,\n",
       "       0.02284133, 0.02284801, 0.02284801, 0.02284184, 0.02283636,\n",
       "       0.02283946, 0.02284339, 0.02283192, 0.02284265, 0.02284971,\n",
       "       0.02286431, 0.02285406, 0.02294627, 0.02284381, 0.02283573,\n",
       "       0.0228619 , 0.02283365, 0.02283618, 0.02285606, 0.02284411,\n",
       "       0.02285445, 0.02284423, 0.02285933, 0.02284956, 0.02286327,\n",
       "       0.02281764, 0.02283445, 0.02282646, 0.02280232, 0.02285841,\n",
       "       0.02282146, 0.02285019, 0.02284867, 0.02285326, 0.02285591,\n",
       "       0.02284423, 0.02284423, 0.02285418, 0.02283713, 0.02284423,\n",
       "       0.02285185, 0.02286327, 0.02285033, 0.02297664, 0.02282295,\n",
       "       0.02283874, 0.02282712, 0.02284002, 0.02285367, 0.02283525,\n",
       "       0.02292025, 0.02284876, 0.02282622, 0.02285424, 0.02283832,\n",
       "       0.02284309, 0.02286318, 0.0228349 , 0.02285233, 0.0228678 ,\n",
       "       0.02283725, 0.02285013, 0.02285549, 0.02283058, 0.02284837,\n",
       "       0.02283624, 0.02284712, 0.02284476, 0.02292159, 0.02300009,\n",
       "       0.02286127, 0.02286264, 0.02284816, 0.02292284, 0.02285326,\n",
       "       0.02286112, 0.02283105, 0.02284756, 0.02284285, 0.02285415,\n",
       "       0.02283728, 0.02285212, 0.02292618, 0.02283406, 0.02284244,\n",
       "       0.02285039, 0.02285245, 0.02285883, 0.02283895, 0.02285513,\n",
       "       0.02285683, 0.02283669, 0.02286077, 0.02283034, 0.02284792,\n",
       "       0.02283454, 0.02284849, 0.0228228 , 0.02295521, 0.02283886,\n",
       "       0.02284399, 0.02282435, 0.02285305, 0.02284256, 0.02285081,\n",
       "       0.02284104, 0.02283686, 0.02287954, 0.02285376, 0.02287108,\n",
       "       0.02286756, 0.0228309 , 0.02282915, 0.02285004, 0.02283707,\n",
       "       0.02283123, 0.02282545, 0.02284598, 0.02283213, 0.02287033,\n",
       "       0.02284506, 0.02287588, 0.02283484, 0.02284428, 0.02285799,\n",
       "       0.02282336, 0.02285853, 0.02284411, 0.0228447 , 0.02289999,\n",
       "       0.02286008, 0.02283889, 0.02285981, 0.02283111, 0.02285695,\n",
       "       0.02283993, 0.02295163, 0.02285391, 0.0228368 , 0.02285007,\n",
       "       0.02284089, 0.0228388 , 0.02284893, 0.02283069, 0.02285475,\n",
       "       0.02283841, 0.02285802, 0.02284685, 0.02285096, 0.0228425 ,\n",
       "       0.0228366 , 0.02286243, 0.02303034, 0.02285606, 0.02286461,\n",
       "       0.02284595, 0.02285221, 0.02284837, 0.02284232, 0.02282789,\n",
       "       0.02284473, 0.02284327, 0.02285013, 0.02285123, 0.02286175,\n",
       "       0.022863  , 0.02283329, 0.02283511, 0.02284518, 0.02283886,\n",
       "       0.02283645, 0.02286544, 0.0228335 , 0.02284408, 0.02284455,\n",
       "       0.02286786, 0.02284822, 0.02285188, 0.02281877, 0.02283666,\n",
       "       0.02285326, 0.02285051, 0.02285752, 0.02282786, 0.02283645,\n",
       "       0.02282551, 0.0228413 , 0.02285874, 0.0228425 , 0.02285942,\n",
       "       0.02286425, 0.02285564, 0.02285284, 0.02283981, 0.02283573,\n",
       "       0.02285153, 0.02283555, 0.02284545, 0.02282605, 0.0228658 ,\n",
       "       0.02285549, 0.02288979, 0.02283022, 0.02291313, 0.02284315,\n",
       "       0.02284521, 0.02283016, 0.02288568, 0.02283636, 0.02282697,\n",
       "       0.02286223, 0.02285627, 0.02284744, 0.02284589, 0.02285367,\n",
       "       0.02284497, 0.02287143, 0.02285326, 0.02284315, 0.02286807,\n",
       "       0.02285334, 0.02283743, 0.02285337, 0.02284807, 0.02284384,\n",
       "       0.02286056, 0.02284583, 0.02283946, 0.02284724, 0.02285165,\n",
       "       0.02284542, 0.02284127, 0.02283064, 0.02287301, 0.02284956,\n",
       "       0.02284503, 0.0228349 , 0.02284181, 0.02283457, 0.02284473,\n",
       "       0.02284142, 0.02285215, 0.0228582 , 0.02285466, 0.02289012,\n",
       "       0.02283469, 0.02283806, 0.02285314, 0.02282709, 0.02284107,\n",
       "       0.02287129, 0.02285385, 0.02284026, 0.02284923, 0.02284163,\n",
       "       0.0229778 , 0.02284634, 0.02282509, 0.02284467, 0.02284107,\n",
       "       0.02283955, 0.02284628, 0.02283224, 0.02286902, 0.02283895,\n",
       "       0.0228529 , 0.02284604, 0.02283728, 0.02283806, 0.02281973,\n",
       "       0.02283731, 0.02283674, 0.02283156, 0.02284127, 0.02283844,\n",
       "       0.02286175, 0.02284774, 0.02284199, 0.02285466, 0.02286407,\n",
       "       0.02284712, 0.02285662, 0.02285278, 0.02285245, 0.0229519 ,\n",
       "       0.02284348, 0.02280796, 0.02282137, 0.02284297, 0.02288094,\n",
       "       0.02285147, 0.02283865, 0.02291843, 0.02284721, 0.02282965,\n",
       "       0.02285534, 0.02285346, 0.02283779, 0.02284786, 0.02284491,\n",
       "       0.0228225 , 0.0228456 , 0.02282956, 0.02284026, 0.02358037,\n",
       "       0.02284476, 0.02284494, 0.02286261, 0.02283919, 0.02285627,\n",
       "       0.0228318 , 0.022928  , 0.02283716, 0.02283368, 0.02284521,\n",
       "       0.02285075, 0.0228388 , 0.02284133, 0.02284825, 0.02284759,\n",
       "       0.02286395, 0.02284184, 0.02282038, 0.02284372, 0.02285165,\n",
       "       0.02284431, 0.02284873, 0.02286464, 0.02285656, 0.02283633,\n",
       "       0.02284998, 0.0228408 , 0.02284181, 0.02284884, 0.02284983,\n",
       "       0.02285337, 0.02285334, 0.02283353, 0.02323946, 0.0228422 ,\n",
       "       0.02284017, 0.02288163, 0.02282888, 0.02285185, 0.02283558,\n",
       "       0.02284682, 0.02285656, 0.02283326, 0.02293977, 0.02289239,\n",
       "       0.02284923, 0.02283552, 0.02284053, 0.02285326, 0.02286673,\n",
       "       0.02283213, 0.02286705, 0.0228385 , 0.02283835, 0.02283677,\n",
       "       0.02285901, 0.02286309, 0.02285832, 0.02284968, 0.02285087,\n",
       "       0.02283695, 0.02283502, 0.02285004, 0.02283633, 0.02284634,\n",
       "       0.02284899, 0.02285007, 0.02284941, 0.02283707, 0.02283213,\n",
       "       0.02285501, 0.02284202, 0.02283987, 0.02283987, 0.02285179,\n",
       "       0.02284294, 0.02289668, 0.02293268, 0.02285558, 0.02285501,\n",
       "       0.02287957, 0.02283901, 0.02286065, 0.02285144, 0.02283984,\n",
       "       0.02285478, 0.02285966, 0.02281719, 0.02285069, 0.02284589,\n",
       "       0.02282232, 0.02284485, 0.02284297, 0.02285838, 0.02285942,\n",
       "       0.0228748 , 0.02284104, 0.0228335 , 0.02285233, 0.02285019,\n",
       "       0.02286252, 0.02285272, 0.02288422, 0.0228537 , 0.02287588,\n",
       "       0.02284893, 0.02284488, 0.02293587, 0.02285355, 0.022861  ,\n",
       "       0.02283427, 0.02285516, 0.02286702, 0.02286324, 0.02285099,\n",
       "       0.02285588, 0.0228447 , 0.02283442, 0.02287117, 0.02283743,\n",
       "       0.02289286, 0.02287039, 0.02283552, 0.02287695, 0.02288306,\n",
       "       0.02283725, 0.02284873, 0.02285215, 0.02285522, 0.02285713,\n",
       "       0.0228954 , 0.02285054, 0.02285549, 0.02283457, 0.02283728,\n",
       "       0.02289987, 0.02284053, 0.02284655, 0.02285466, 0.0228543 ,\n",
       "       0.02283722, 0.02284393, 0.02285323, 0.02284268, 0.0228419 ,\n",
       "       0.02285182, 0.02285531, 0.02282795, 0.02285966, 0.02285397,\n",
       "       0.02284744, 0.02282262, 0.02282992, 0.02283889, 0.02285141,\n",
       "       0.02284342, 0.02283925, 0.02284306, 0.02285221, 0.02284986,\n",
       "       0.02283198, 0.02285033, 0.02283269, 0.02283853, 0.02283463,\n",
       "       0.02285317, 0.02284986, 0.02289936, 0.02283868, 0.02284318,\n",
       "       0.02284712, 0.02284744, 0.02289259, 0.02285862, 0.02283767,\n",
       "       0.0228349 , 0.02284503, 0.02284464, 0.02285179, 0.02286097,\n",
       "       0.02283666, 0.02282926, 0.02284467, 0.02284813, 0.02285227,\n",
       "       0.02285692, 0.02283898, 0.02283433, 0.02283797, 0.02285227,\n",
       "       0.02284458, 0.02284101, 0.02283335, 0.02283961, 0.02283895,\n",
       "       0.02284667, 0.02284551, 0.02283123, 0.02285144, 0.02284938,\n",
       "       0.0228374 , 0.02284393, 0.02283877, 0.02282831, 0.02283847,\n",
       "       0.02285889, 0.02285233, 0.02285299, 0.02284715, 0.02283016,\n",
       "       0.02284047, 0.02286011, 0.02284282, 0.02284011, 0.02284592,\n",
       "       0.02281213, 0.02287117, 0.02286348, 0.02283791, 0.02284765,\n",
       "       0.0228385 , 0.02283666, 0.02284691, 0.02286234, 0.02284569,\n",
       "       0.02283418, 0.02285293, 0.02285013, 0.02283245, 0.0228819 ,\n",
       "       0.0228613 , 0.02281916, 0.02284941, 0.02281779, 0.02285373,\n",
       "       0.02285361, 0.02285388], dtype=float32)"
      ]
     },
     "execution_count": 102,
     "metadata": {},
     "output_type": "execute_result"
    }
   ],
   "source": [
    "test_predictions.flatten()"
   ]
  },
  {
   "cell_type": "code",
   "execution_count": null,
   "metadata": {},
   "outputs": [],
   "source": []
  }
 ],
 "metadata": {
  "kernelspec": {
   "display_name": "Python 3",
   "language": "python",
   "name": "python3"
  },
  "language_info": {
   "codemirror_mode": {
    "name": "ipython",
    "version": 3
   },
   "file_extension": ".py",
   "mimetype": "text/x-python",
   "name": "python",
   "nbconvert_exporter": "python",
   "pygments_lexer": "ipython3",
   "version": "3.8.3"
  }
 },
 "nbformat": 4,
 "nbformat_minor": 4
}
